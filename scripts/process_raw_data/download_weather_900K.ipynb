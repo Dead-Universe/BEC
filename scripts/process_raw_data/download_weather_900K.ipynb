{
 "cells": [
  {
   "cell_type": "code",
   "execution_count": 2,
   "metadata": {},
   "outputs": [],
   "source": [
    "import pandas as pd\n",
    "\n",
    "lookup_df = pd.read_csv('../spatial_tract_lookup_table.csv')\n",
    "county = lookup_df['nhgis_2010_county_gisjoin']"
   ]
  },
  {
   "cell_type": "code",
   "execution_count": 5,
   "metadata": {},
   "outputs": [],
   "source": [
    "import numpy as np\n",
    "county_list = np.unique(county)"
   ]
  },
  {
   "cell_type": "code",
   "execution_count": 6,
   "metadata": {},
   "outputs": [
    {
     "data": {
      "text/plain": [
       "(3220,)"
      ]
     },
     "execution_count": 6,
     "metadata": {},
     "output_type": "execute_result"
    }
   ],
   "source": [
    "county_list.shape"
   ]
  },
  {
   "cell_type": "code",
   "execution_count": 7,
   "metadata": {},
   "outputs": [],
   "source": [
    "from pathlib import Path\n",
    "import requests\n",
    "\n",
    "def url_retrieve(url: str, outfile: Path):\n",
    "    R = requests.get(url, allow_redirects=True)\n",
    "    if R.status_code != 200:\n",
    "        return\n",
    "\n",
    "    outfile.write_bytes(R.content)"
   ]
  },
  {
   "cell_type": "code",
   "execution_count": 9,
   "metadata": {},
   "outputs": [],
   "source": [
    "output_dir = '/data/local/projects/foundation/v1.1.0/BuildingsBench/Buildings-900K/end-use-load-profiles-for-us-building-stock/2021/comstock_amy2018_release_1/weather/'\n",
    "for ct in county_list:\n",
    "    url_retrieve(f'https://oedi-data-lake.s3.amazonaws.com/nrel-pds-building-stock/end-use-load-profiles-for-us-building-stock/2021/comstock_amy2018_release_1/weather/amy2018/{ct}_2018.csv', Path(f'{output_dir}/{ct}.csv'))"
   ]
  },
  {
   "cell_type": "code",
   "execution_count": null,
   "metadata": {},
   "outputs": [],
   "source": [
    "output_dir = '/data/local/projects/foundation/v1.1.0/BuildingsBench/Buildings-900K/end-use-load-profiles-for-us-building-stock/2021/comstock_tmy3_release_1/weather/'\n",
    "for ct in county_list:\n",
    "    url_retrieve(f'https://oedi-data-lake.s3.amazonaws.com/nrel-pds-building-stock/end-use-load-profiles-for-us-building-stock/2021/comstock_tmy3_release_1/weather/tmy3/{ct}_tmy3.csv', Path(f'{output_dir}/{ct}.csv'))"
   ]
  },
  {
   "cell_type": "code",
   "execution_count": null,
   "metadata": {},
   "outputs": [],
   "source": [
    "output_dir = '/data/local/projects/foundation/v1.1.0/BuildingsBench/Buildings-900K/end-use-load-profiles-for-us-building-stock/2021/resstock_amy2018_release_1/weather/'\n",
    "for ct in county_list:\n",
    "    url_retrieve(f'https://oedi-data-lake.s3.amazonaws.com/nrel-pds-building-stock/end-use-load-profiles-for-us-building-stock/2021/resstock_amy2018_release_1/weather/amy2018/{ct}_2018.csv', Path(f'{output_dir}/{ct}.csv'))"
   ]
  },
  {
   "cell_type": "code",
   "execution_count": null,
   "metadata": {},
   "outputs": [],
   "source": [
    "output_dir = '/data/local/projects/foundation/v1.1.0/BuildingsBench/Buildings-900K/end-use-load-profiles-for-us-building-stock/2021/resstock_tmy3_release_1/weather/'\n",
    "for ct in county_list:\n",
    "    url_retrieve(f'https://oedi-data-lake.s3.amazonaws.com/nrel-pds-building-stock/end-use-load-profiles-for-us-building-stock/2021/resstock_tmy3_release_1/weather/tmy3/{ct}_tmy3.csv', Path(f'{output_dir}/{ct}.csv'))"
   ]
  },
  {
   "cell_type": "code",
   "execution_count": null,
   "metadata": {},
   "outputs": [],
   "source": []
  }
 ],
 "metadata": {
  "kernelspec": {
   "display_name": "buildings_bench",
   "language": "python",
   "name": "python3"
  },
  "language_info": {
   "codemirror_mode": {
    "name": "ipython",
    "version": 3
   },
   "file_extension": ".py",
   "mimetype": "text/x-python",
   "name": "python",
   "nbconvert_exporter": "python",
   "pygments_lexer": "ipython3",
   "version": "3.8.17"
  },
  "orig_nbformat": 4
 },
 "nbformat": 4,
 "nbformat_minor": 2
}
