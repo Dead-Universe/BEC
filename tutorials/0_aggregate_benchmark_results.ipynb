{
 "cells": [
  {
   "attachments": {},
   "cell_type": "markdown",
   "metadata": {},
   "source": [
    "# 0_aggregate_benchmark_results.ipynb\n",
    "\n",
    "Compute aggregate median using summary from DatasetMetricsManager."
   ]
  },
  {
   "cell_type": "code",
   "execution_count": 1,
   "metadata": {},
   "outputs": [],
   "source": [
    "from buildings_bench.evaluation import aggregate\n",
    "import os \n",
    "\n",
    "%load_ext autoreload\n",
    "%autoreload 2"
   ]
  },
  {
   "cell_type": "code",
   "execution_count": 2,
   "metadata": {},
   "outputs": [],
   "source": [
    "results_dir = '../results'\n",
    "metadata_dir = os.environ.get('BUILDINGS_BENCH', '/Users/pemami/data/BuildingsBench') + '/metadata'\n",
    "\n",
    "oov =[]\n",
    "with open(metadata_dir + '/oov.txt', 'r') as f:\n",
    "    for l in f:\n",
    "        oov += [l.strip().split(' ')[1]]"
   ]
  },
  {
   "cell_type": "code",
   "execution_count": 4,
   "metadata": {},
   "outputs": [
    {
     "name": "stdout",
     "output_type": "stream",
     "text": [
      "Warning: TransformerWithGaussian-L has inf/nan values\n",
      "Warning: TransformerWithGaussian-L has inf/nan values\n"
     ]
    },
    {
     "data": {
      "text/plain": [
       "{'residential': {'cvrmse': ({'TransformerWithGaussian-L': array([0.83862552])},\n",
       "   {'TransformerWithGaussian-L': array([[0.82110432],\n",
       "           [0.86120349]])}),\n",
       "  'crps': ({'TransformerWithGaussian-L': array([0.0823326])},\n",
       "   {'TransformerWithGaussian-L': array([[0.08121017],\n",
       "           [0.08356251]])})},\n",
       " 'commercial': {'cvrmse': ({'TransformerWithGaussian-L': array([0.13865106])},\n",
       "   {'TransformerWithGaussian-L': array([[0.13239603],\n",
       "           [0.14404956]])}),\n",
       "  'crps': ({'TransformerWithGaussian-L': array([5.12292552])},\n",
       "   {'TransformerWithGaussian-L': array([[5.01053762],\n",
       "           [5.2379837 ]])})}}"
      ]
     },
     "execution_count": 4,
     "metadata": {},
     "output_type": "execute_result"
    }
   ],
   "source": [
    "# Returns a dictionary with the median of the cvrmse and crps metrics for each model \n",
    "# and boostrapped 95% confidence intervals\n",
    "aggregate.return_aggregate_median(\n",
    "    model_list = ['TransformerWithGaussian-L'],\n",
    "    results_dir = results_dir,\n",
    "    experiment = 'zero_shot',\n",
    "    metrics = ['cvrmse', 'crps'],\n",
    "    oov_list = oov\n",
    ")"
   ]
  }
 ],
 "metadata": {
  "kernelspec": {
   "display_name": "Python 3 (ipykernel)",
   "language": "python",
   "name": "python3"
  },
  "language_info": {
   "codemirror_mode": {
    "name": "ipython",
    "version": 3
   },
   "file_extension": ".py",
   "mimetype": "text/x-python",
   "name": "python",
   "nbconvert_exporter": "python",
   "pygments_lexer": "ipython3",
   "version": "3.11.3"
  }
 },
 "nbformat": 4,
 "nbformat_minor": 4
}
