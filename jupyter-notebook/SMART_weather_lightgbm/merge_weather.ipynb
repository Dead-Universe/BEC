{
 "cells": [
  {
   "cell_type": "code",
   "execution_count": 3,
   "id": "e86aa9f2-b615-4372-902f-c42a00487bdc",
   "metadata": {},
   "outputs": [],
   "source": [
    "import os\n",
    "import pandas as pd\n",
    "from datetime import datetime as dt\n",
    "from pathlib import Path"
   ]
  },
  {
   "cell_type": "code",
   "execution_count": 4,
   "id": "c8ec1424-f85a-4fe1-bc40-4868d7d77f3e",
   "metadata": {},
   "outputs": [],
   "source": [
    "# import pytz\n",
    "from datetime import timezone, timedelta\n",
    "# dt_utc_aware = datetime.datetime.fromtimestamp(0, datetime.timezone.utc)"
   ]
  },
  {
   "cell_type": "code",
   "execution_count": 5,
   "id": "a6ffc2c2-dc2b-42ea-961c-1c32b5ab08e7",
   "metadata": {},
   "outputs": [],
   "source": [
    "# new_timezone = pytz.timezone(\"US/Eastern\")"
   ]
  },
  {
   "cell_type": "code",
   "execution_count": 14,
   "id": "9beff78a-f75f-42a1-9770-3221e093d95a",
   "metadata": {},
   "outputs": [],
   "source": [
    "from datetime import timezone, timedelta\n",
    "def get_weather_pandas(path_to_csv: str) -> pd.DataFrame:\n",
    "    weather_data = pd.read_csv(path_to_csv)\n",
    "    \n",
    "    # Unix timestamp to UTC-5\n",
    "    weather_data['time'] = weather_data['time'].apply(lambda x: (dt.fromtimestamp(x, timezone.utc) - timedelta(hours=5)).strftime('%Y-%m-%d %H:%M:%S'))\n",
    "    \n",
    "    weather_data.rename(columns={'time' : 'timestamp'}, inplace=True)\n",
    "    weather_data = weather_data.set_index('timestamp')\n",
    "    weather_data.index = pd.to_datetime(weather_data.index, format='%Y-%m-%d %H:%M:%S')\n",
    "    \n",
    "    assert weather_data[weather_data.index.duplicated()].empty # making sure there's no duplicates\n",
    "\n",
    "    weather_data = weather_data[['temperature', 'humidity']]\n",
    "    weather_data['temperature'] = weather_data['temperature'].apply(lambda x: (x - 32) / 1.8)\n",
    "    weather_data['humidity'] = weather_data['humidity'].apply(lambda x: x * 100)\n",
    "    \n",
    "    return weather_data"
   ]
  },
  {
   "cell_type": "code",
   "execution_count": 26,
   "id": "5e19ea34-94f6-4ac9-a741-ae551bcf04f7",
   "metadata": {},
   "outputs": [],
   "source": [
    "dataset_path = Path(os.environ.get('BUILDINGS_BENCH', ''))\n",
    "\n",
    "home = [('HomeB',[2014,2015,2016]), ('HomeC', [2014, 2015, 2016]), ('HomeD', [2015, 2016]), ('HomeF', [2014, 2015, 2016]), ('HomeG', [2015, 2016])]\n",
    "home"
   ]
  },
  {
   "cell_type": "code",
   "execution_count": null,
   "id": "4eddbc48",
   "metadata": {},
   "outputs": [],
   "source": [
    "for h in home:\n",
    "    weather_df = pd.DataFrame()\n",
    "    for y in h[1]:\n",
    "        df = get_weather_pandas(f'{h[0]}/{h[0][0].lower() + h[0][1:]}{y}.csv')\n",
    "        weather_df = pd.concat([weather_df, df])\n",
    "\n",
    "    weather_df.to_csv(dataset_path / f'remove_outliers/SMART/weather_{h[0]}.csv')"
   ]
  }
 ],
 "metadata": {
  "kernelspec": {
   "display_name": "Python 3 (ipykernel)",
   "language": "python",
   "name": "python3"
  },
  "language_info": {
   "codemirror_mode": {
    "name": "ipython",
    "version": 3
   },
   "file_extension": ".py",
   "mimetype": "text/x-python",
   "name": "python",
   "nbconvert_exporter": "python",
   "pygments_lexer": "ipython3",
   "version": "3.8.17"
  }
 },
 "nbformat": 4,
 "nbformat_minor": 5
}
